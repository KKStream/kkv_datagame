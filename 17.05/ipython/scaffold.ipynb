{
 "cells": [
  {
   "cell_type": "code",
   "execution_count": null,
   "metadata": {
    "collapsed": true
   },
   "outputs": [],
   "source": [
    "import json\n",
    "import pandas as pd"
   ]
  },
  {
   "cell_type": "code",
   "execution_count": null,
   "metadata": {
    "collapsed": true
   },
   "outputs": [],
   "source": [
    "path_events_train = '../data/events_train.csv'\n",
    "path_events_test = '../data/events_test.csv'\n",
    "\n",
    "path_labels_train = '../data/labels_train.csv'\n",
    "path_labels_test = '../data/sample.csv'\n",
    "\n",
    "path_titles_meta = '../data/titles.json'\n",
    "\n",
    "path_result = '../data/ipython_results.csv'"
   ]
  },
  {
   "cell_type": "code",
   "execution_count": null,
   "metadata": {
    "collapsed": true
   },
   "outputs": [],
   "source": [
    "dtype_columns = {\n",
    "    'time': object,\n",
    "    'user_id': object,\n",
    "    'title_id': object,\n",
    "    'is_simulcast': object,\n",
    "    'title_name': object,\n",
    "    'watch_time': object,\n",
    "}"
   ]
  },
  {
   "cell_type": "code",
   "execution_count": null,
   "metadata": {},
   "outputs": [],
   "source": [
    "events_train = pd.read_csv(path_events_train, dtype=dtype_columns)\n",
    "\n",
    "events_train.head()"
   ]
  },
  {
   "cell_type": "code",
   "execution_count": null,
   "metadata": {},
   "outputs": [],
   "source": [
    "events_test = pd.read_csv(path_events_test, dtype=dtype_columns)\n",
    "\n",
    "events_test.head()"
   ]
  },
  {
   "cell_type": "code",
   "execution_count": null,
   "metadata": {},
   "outputs": [],
   "source": [
    "labels_train = pd.read_csv(path_labels_train, dtype=dtype_columns)\n",
    "\n",
    "labels_train.head()"
   ]
  },
  {
   "cell_type": "code",
   "execution_count": null,
   "metadata": {},
   "outputs": [],
   "source": [
    "labels_test = pd.read_csv(path_labels_test, dtype=dtype_columns)\n",
    "\n",
    "labels_test.head()"
   ]
  },
  {
   "cell_type": "code",
   "execution_count": null,
   "metadata": {},
   "outputs": [],
   "source": [
    "with open(path_titles_meta) as f_titles:\n",
    "    titles_meta = json.load(f_titles)\n",
    "    \n",
    "print('number of keys: {}'.format(len(titles_meta)))"
   ]
  },
  {
   "cell_type": "code",
   "execution_count": null,
   "metadata": {},
   "outputs": [],
   "source": [
    "# we want to guess title_id for user_id in events_test (they are 00000000 ~ 00041538 and in the sample.csv).\n",
    "# change the title_id for each user_id to make a new \n",
    "\n",
    "labels_test['title_id'] = labels_test.apply(lambda row: '00000123', axis=1)\n",
    "\n",
    "labels_test.to_csv(path_result, index=False)\n",
    "\n",
    "labels_test.head()"
   ]
  },
  {
   "cell_type": "markdown",
   "metadata": {
    "collapsed": true
   },
   "source": [
    "# More Different Strategies\n",
    "* find the relationships between events_train and labels_train, use the relationships to guess labels_test based on events_test\n",
    "* find the relationships between titles by examining titles"
   ]
  },
  {
   "cell_type": "code",
   "execution_count": null,
   "metadata": {
    "collapsed": true
   },
   "outputs": [],
   "source": []
  }
 ],
 "metadata": {
  "kernelspec": {
   "display_name": "Python 2",
   "language": "python",
   "name": "python2"
  },
  "language_info": {
   "codemirror_mode": {
    "name": "ipython",
    "version": 2
   },
   "file_extension": ".py",
   "mimetype": "text/x-python",
   "name": "python",
   "nbconvert_exporter": "python",
   "pygments_lexer": "ipython2",
   "version": "2.7.10"
  }
 },
 "nbformat": 4,
 "nbformat_minor": 2
}
